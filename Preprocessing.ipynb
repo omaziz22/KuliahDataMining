{
  "nbformat": 4,
  "nbformat_minor": 0,
  "metadata": {
    "colab": {
      "name": "Preprocessing.ipynb",
      "provenance": [],
      "collapsed_sections": []
    },
    "kernelspec": {
      "name": "python3",
      "display_name": "Python 3"
    },
    "language_info": {
      "name": "python"
    }
  },
  "cells": [
    {
      "cell_type": "code",
      "metadata": {
        "id": "c3BX9VZo8vp2"
      },
      "source": [
        "import numpy as np\n",
        "import matplotlib.pyplot as plt\n",
        "import pandas as pd\n",
        "\n",
        "\n"
      ],
      "execution_count": 7,
      "outputs": []
    },
    {
      "cell_type": "code",
      "metadata": {
        "id": "GmkzhSRXFRYS"
      },
      "source": [
        "dataset = pd.read_csv('hazek.csv')\n",
        "x = dataset.iloc[:, :-1].values\n",
        "y = dataset.iloc[:, -1].values\n"
      ],
      "execution_count": 34,
      "outputs": []
    },
    {
      "cell_type": "code",
      "metadata": {
        "colab": {
          "base_uri": "https://localhost:8080/"
        },
        "id": "AICzepuxNyPF",
        "outputId": "464d7c81-4062-4504-c85d-45cc42f39988"
      },
      "source": [
        "print(x)"
      ],
      "execution_count": 35,
      "outputs": [
        {
          "output_type": "stream",
          "text": [
            "[['C4' 0.0 72000.0]\n",
            " ['Rojolele' 44.0 48000.0]\n",
            " ['Strawberru' 30.0 54000.0]\n",
            " ['Mentik wangi' 38.0 61000.0]\n",
            " ['Delanggu' 40.0 nan]\n",
            " ['Anak Raja ' 35.0 58000.0]\n",
            " ['Pak Tani' nan 52000.0]\n",
            " ['Bulog' 48.0 79000.0]\n",
            " ['Premimum' 0.0 83000.0]\n",
            " ['EnakEnak' 37.0 67000.0]]\n"
          ],
          "name": "stdout"
        }
      ]
    },
    {
      "cell_type": "code",
      "metadata": {
        "colab": {
          "base_uri": "https://localhost:8080/"
        },
        "id": "e0IJof61GpQW",
        "outputId": "be4d633b-d77a-44e7-efd9-fb1838bf579a"
      },
      "source": [
        "print(y)"
      ],
      "execution_count": 39,
      "outputs": [
        {
          "output_type": "stream",
          "text": [
            "['Kosong' 'Ada' 'Ada' 'Ada' 'Ada' 'Ada' 'Ada' 'Ada' 'Kosong' 'Ada']\n"
          ],
          "name": "stdout"
        }
      ]
    },
    {
      "cell_type": "code",
      "metadata": {
        "id": "urY4pR5ORfP8"
      },
      "source": [
        "from sklearn. impute import SimpleImputer\n",
        "imputer =SimpleImputer(missing_values=np.nan, strategy='mean')\n",
        "imputer.fit(x[:, 1:3])\n",
        "x[:, 1:3]= imputer.transform(x[:, 1:3])"
      ],
      "execution_count": 41,
      "outputs": []
    },
    {
      "cell_type": "markdown",
      "metadata": {
        "id": "4atNyjQSKnvM"
      },
      "source": [
        ""
      ]
    },
    {
      "cell_type": "code",
      "metadata": {
        "colab": {
          "base_uri": "https://localhost:8080/"
        },
        "id": "LwrNoQvHSEl1",
        "outputId": "f4cb1437-c9d4-46b4-ea3c-61647709c6fe"
      },
      "source": [
        "print(x)"
      ],
      "execution_count": 42,
      "outputs": [
        {
          "output_type": "stream",
          "text": [
            "[['C4' 0.0 72000.0]\n",
            " ['Rojolele' 44.0 48000.0]\n",
            " ['Strawberru' 30.0 54000.0]\n",
            " ['Mentik wangi' 38.0 61000.0]\n",
            " ['Delanggu' 40.0 63777.77777777778]\n",
            " ['Anak Raja ' 35.0 58000.0]\n",
            " ['Pak Tani' 30.22222222222222 52000.0]\n",
            " ['Bulog' 48.0 79000.0]\n",
            " ['Premimum' 0.0 83000.0]\n",
            " ['EnakEnak' 37.0 67000.0]]\n"
          ],
          "name": "stdout"
        }
      ]
    },
    {
      "cell_type": "code",
      "metadata": {
        "id": "zAyH9zDHSNXS"
      },
      "source": [
        "from sklearn.compose import ColumnTransformer\n",
        "from sklearn.preprocessing import OneHotEncoder\n",
        "ct= ColumnTransformer(transformers=[('encoder',OneHotEncoder(),[0])],remainder='passthrough')\n",
        "x =np.array(ct.fit_transform(x))"
      ],
      "execution_count": 50,
      "outputs": []
    },
    {
      "cell_type": "code",
      "metadata": {
        "colab": {
          "base_uri": "https://localhost:8080/"
        },
        "id": "7Bi6LXuuU-6h",
        "outputId": "22da1d20-ce8f-4850-896b-e8771f712f16"
      },
      "source": [
        "print(x)"
      ],
      "execution_count": 51,
      "outputs": [
        {
          "output_type": "stream",
          "text": [
            "  (0, 2)\t1.0\n",
            "  (0, 11)\t72000.0\n",
            "  (1, 8)\t1.0\n",
            "  (1, 10)\t44.0\n",
            "  (1, 11)\t48000.0\n",
            "  (2, 9)\t1.0\n",
            "  (2, 10)\t30.0\n",
            "  (2, 11)\t54000.0\n",
            "  (3, 5)\t1.0\n",
            "  (3, 10)\t38.0\n",
            "  (3, 11)\t61000.0\n",
            "  (4, 3)\t1.0\n",
            "  (4, 10)\t40.0\n",
            "  (4, 11)\t63777.77777777778\n",
            "  (5, 0)\t1.0\n",
            "  (5, 10)\t35.0\n",
            "  (5, 11)\t58000.0\n",
            "  (6, 6)\t1.0\n",
            "  (6, 10)\t30.22222222222222\n",
            "  (6, 11)\t52000.0\n",
            "  (7, 1)\t1.0\n",
            "  (7, 10)\t48.0\n",
            "  (7, 11)\t79000.0\n",
            "  (8, 7)\t1.0\n",
            "  (8, 11)\t83000.0\n",
            "  (9, 4)\t1.0\n",
            "  (9, 10)\t37.0\n",
            "  (9, 11)\t67000.0\n"
          ],
          "name": "stdout"
        }
      ]
    },
    {
      "cell_type": "code",
      "metadata": {
        "id": "hDWISc5lVGfW"
      },
      "source": [
        "from sklearn.preprocessing import LabelEncoder\n",
        "le = LabelEncoder()\n",
        "y = le.fit_transform(y)"
      ],
      "execution_count": 52,
      "outputs": []
    },
    {
      "cell_type": "code",
      "metadata": {
        "colab": {
          "base_uri": "https://localhost:8080/"
        },
        "id": "g7za8gvRVV5v",
        "outputId": "1b47070e-cf1c-4d6a-b8ad-696bc0652e56"
      },
      "source": [
        "print(y)"
      ],
      "execution_count": 53,
      "outputs": [
        {
          "output_type": "stream",
          "text": [
            "[1 0 0 0 0 0 0 0 1 0]\n"
          ],
          "name": "stdout"
        }
      ]
    },
    {
      "cell_type": "code",
      "metadata": {
        "id": "gbxMh3K8Vb2t"
      },
      "source": [
        "from sklearn.model_selection import train_test_split\n",
        "x_train, x_test, y_train, y_test = train_test_split(x,y, test_size = 0.2, random_state = 1)"
      ],
      "execution_count": null,
      "outputs": []
    },
    {
      "cell_type": "code",
      "metadata": {
        "colab": {
          "base_uri": "https://localhost:8080/",
          "height": 163
        },
        "id": "u0C8wJtnYdRs",
        "outputId": "1afb7d9c-e9f7-4830-b7fd-1bcc0ffd4211"
      },
      "source": [
        "print(x_train)\n"
      ],
      "execution_count": 81,
      "outputs": [
        {
          "output_type": "error",
          "ename": "NameError",
          "evalue": "ignored",
          "traceback": [
            "\u001b[0;31m---------------------------------------------------------------------------\u001b[0m",
            "\u001b[0;31mNameError\u001b[0m                                 Traceback (most recent call last)",
            "\u001b[0;32m<ipython-input-81-e20a593f9355>\u001b[0m in \u001b[0;36m<module>\u001b[0;34m()\u001b[0m\n\u001b[0;32m----> 1\u001b[0;31m \u001b[0mprint\u001b[0m\u001b[0;34m(\u001b[0m\u001b[0mx_train\u001b[0m\u001b[0;34m)\u001b[0m\u001b[0;34m\u001b[0m\u001b[0;34m\u001b[0m\u001b[0m\n\u001b[0m",
            "\u001b[0;31mNameError\u001b[0m: name 'x_train' is not defined"
          ]
        }
      ]
    },
    {
      "cell_type": "markdown",
      "metadata": {
        "id": "7PbLfK6DdIwD"
      },
      "source": [
        "training set dan testing set"
      ]
    },
    {
      "cell_type": "code",
      "metadata": {
        "colab": {
          "base_uri": "https://localhost:8080/",
          "height": 163
        },
        "id": "WDX5avyYcWIN",
        "outputId": "8b3d5511-be1c-46c6-9463-72abefea2013"
      },
      "source": [
        "print(x_test)"
      ],
      "execution_count": 82,
      "outputs": [
        {
          "output_type": "error",
          "ename": "NameError",
          "evalue": "ignored",
          "traceback": [
            "\u001b[0;31m---------------------------------------------------------------------------\u001b[0m",
            "\u001b[0;31mNameError\u001b[0m                                 Traceback (most recent call last)",
            "\u001b[0;32m<ipython-input-82-14a027e2eb09>\u001b[0m in \u001b[0;36m<module>\u001b[0;34m()\u001b[0m\n\u001b[0;32m----> 1\u001b[0;31m \u001b[0mprint\u001b[0m\u001b[0;34m(\u001b[0m\u001b[0mx_test\u001b[0m\u001b[0;34m)\u001b[0m\u001b[0;34m\u001b[0m\u001b[0;34m\u001b[0m\u001b[0m\n\u001b[0m",
            "\u001b[0;31mNameError\u001b[0m: name 'x_test' is not defined"
          ]
        }
      ]
    },
    {
      "cell_type": "code",
      "metadata": {
        "colab": {
          "base_uri": "https://localhost:8080/",
          "height": 163
        },
        "id": "e4cVR2Adcd1-",
        "outputId": "9fee49dc-fdb5-4991-cdf9-215b85047749"
      },
      "source": [
        "print(y_test)"
      ],
      "execution_count": 83,
      "outputs": [
        {
          "output_type": "error",
          "ename": "NameError",
          "evalue": "ignored",
          "traceback": [
            "\u001b[0;31m---------------------------------------------------------------------------\u001b[0m",
            "\u001b[0;31mNameError\u001b[0m                                 Traceback (most recent call last)",
            "\u001b[0;32m<ipython-input-83-7aafbd257ddc>\u001b[0m in \u001b[0;36m<module>\u001b[0;34m()\u001b[0m\n\u001b[0;32m----> 1\u001b[0;31m \u001b[0mprint\u001b[0m\u001b[0;34m(\u001b[0m\u001b[0my_test\u001b[0m\u001b[0;34m)\u001b[0m\u001b[0;34m\u001b[0m\u001b[0;34m\u001b[0m\u001b[0m\n\u001b[0m",
            "\u001b[0;31mNameError\u001b[0m: name 'y_test' is not defined"
          ]
        }
      ]
    },
    {
      "cell_type": "code",
      "metadata": {
        "id": "w4Vp12UJcgvS"
      },
      "source": [
        "print(y_train)"
      ],
      "execution_count": null,
      "outputs": []
    },
    {
      "cell_type": "code",
      "metadata": {
        "id": "s5D8pafSa986"
      },
      "source": [
        "from sklearn.preprocessing import StandardScaler\n",
        "sc = StandardScaler()\n",
        "x_train[:,3:] = sc.fit_transform(x_train[:, 3:])\n",
        "x_test[:,3:]  =sc.transform(x_test[:,3:])"
      ],
      "execution_count": null,
      "outputs": []
    },
    {
      "cell_type": "code",
      "metadata": {
        "id": "wnCmCozVbnDL"
      },
      "source": [
        "print(x_train)"
      ],
      "execution_count": null,
      "outputs": []
    },
    {
      "cell_type": "markdown",
      "metadata": {
        "id": "nJWHpeMASVt_"
      },
      "source": [
        ""
      ]
    }
  ]
}